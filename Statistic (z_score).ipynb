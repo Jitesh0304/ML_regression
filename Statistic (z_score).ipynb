{
 "cells": [
  {
   "cell_type": "code",
   "execution_count": 1,
   "id": "692fcf08",
   "metadata": {},
   "outputs": [],
   "source": [
    "import numpy as np\n",
    "import pandas as pd\n",
    "import matplotlib.pyplot as plt\n",
    "%matplotlib inline\n",
    "\n",
    "import seaborn as sns"
   ]
  },
  {
   "cell_type": "code",
   "execution_count": 2,
   "id": "41c3ff32",
   "metadata": {},
   "outputs": [],
   "source": [
    "dataset = [11,10,12,14,14,15,14,13,15,102,12,14,17,19,107,10,17,12,14,12,100,12,11,13,14,15,10,15,12,10,14,13,15,10]"
   ]
  },
  {
   "cell_type": "markdown",
   "id": "275a9637",
   "metadata": {},
   "source": [
    "# Z_score"
   ]
  },
  {
   "cell_type": "code",
   "execution_count": 3,
   "id": "ecf4c199",
   "metadata": {},
   "outputs": [
    {
     "data": {
      "text/plain": [
       "[102, 107, 100]"
      ]
     },
     "execution_count": 3,
     "metadata": {},
     "output_type": "execute_result"
    }
   ],
   "source": [
    "## find out which values are outliers (Z_score)\n",
    "\n",
    "outliers =[]\n",
    "\n",
    "def detect_outliers(data):\n",
    "    \n",
    "    thresold = 3 \n",
    "    mean = np.mean(data)\n",
    "    standart_devi = np.std(data)\n",
    "    \n",
    "    for i in data:\n",
    "        z_score = (i - mean)/standart_devi \n",
    "        \n",
    "        if np.abs(z_score) > thresold:       \n",
    "            outliers.append(i)\n",
    "            \n",
    "    return outliers\n",
    "\n",
    "detect_outliers(dataset)"
   ]
  },
  {
   "cell_type": "markdown",
   "id": "022d9a9b",
   "metadata": {},
   "source": [
    "# IQR (inter quartile range)"
   ]
  },
  {
   "cell_type": "raw",
   "id": "759dbbf2",
   "metadata": {},
   "source": [
    "1) sorting the data \n",
    "2) calculate Q1 & Q2\n",
    "3) IQR => (Q3 - Q1)\n",
    "4) find the lower fence (Q1 - 1.5(IQR))\n",
    "5) find the upper fence (Q3 + 1.5(IQR))"
   ]
  },
  {
   "cell_type": "code",
   "execution_count": 4,
   "id": "33e9b039",
   "metadata": {},
   "outputs": [
    {
     "name": "stdout",
     "output_type": "stream",
     "text": [
      "[10, 10, 10, 10, 10, 11, 11, 12, 12, 12, 12, 12, 12, 13, 13, 13, 14, 14, 14, 14, 14, 14, 14, 15, 15, 15, 15, 15, 17, 17, 19, 100, 102, 107]\n"
     ]
    }
   ],
   "source": [
    "data1 = sorted(dataset)\n",
    "print(data1)"
   ]
  },
  {
   "cell_type": "code",
   "execution_count": 5,
   "id": "8e9ab15a",
   "metadata": {},
   "outputs": [
    {
     "name": "stdout",
     "output_type": "stream",
     "text": [
      "12.0 15.0\n"
     ]
    }
   ],
   "source": [
    "## find out the percentile \n",
    "\n",
    "q1 , q3 = np.percentile(data1,[25,75])\n",
    "\n",
    "print(q1,q3)"
   ]
  },
  {
   "cell_type": "code",
   "execution_count": 6,
   "id": "3b2c3f85",
   "metadata": {},
   "outputs": [
    {
     "data": {
      "text/plain": [
       "3.0"
      ]
     },
     "execution_count": 6,
     "metadata": {},
     "output_type": "execute_result"
    }
   ],
   "source": [
    "## IQR\n",
    "iqr = q3 -q1\n",
    "iqr"
   ]
  },
  {
   "cell_type": "code",
   "execution_count": 7,
   "id": "563473d0",
   "metadata": {},
   "outputs": [
    {
     "data": {
      "text/plain": [
       "7.5"
      ]
     },
     "execution_count": 7,
     "metadata": {},
     "output_type": "execute_result"
    }
   ],
   "source": [
    "## find the lower fence & higher fence\n",
    "\n",
    "lower_fence = q1 -1.5*iqr\n",
    "lower_fence"
   ]
  },
  {
   "cell_type": "code",
   "execution_count": 8,
   "id": "f0e3d7b0",
   "metadata": {},
   "outputs": [
    {
     "data": {
      "text/plain": [
       "19.5"
      ]
     },
     "execution_count": 8,
     "metadata": {},
     "output_type": "execute_result"
    }
   ],
   "source": [
    "higher_fence = q3 + 1.5*iqr\n",
    "higher_fence"
   ]
  },
  {
   "cell_type": "code",
   "execution_count": 9,
   "id": "f1d2ad22",
   "metadata": {},
   "outputs": [
    {
     "name": "stderr",
     "output_type": "stream",
     "text": [
      "C:\\Users\\HP\\anaconda3\\lib\\site-packages\\seaborn\\_decorators.py:36: FutureWarning: Pass the following variable as a keyword arg: x. From version 0.12, the only valid positional argument will be `data`, and passing other arguments without an explicit keyword will result in an error or misinterpretation.\n",
      "  warnings.warn(\n"
     ]
    },
    {
     "data": {
      "text/plain": [
       "<AxesSubplot:>"
      ]
     },
     "execution_count": 9,
     "metadata": {},
     "output_type": "execute_result"
    },
    {
     "data": {
      "image/png": "[encoded data removed]",
      "text/plain": [
       "<Figure size 432x288 with 1 Axes>"
      ]
     },
     "metadata": {
      "needs_background": "light"
     },
     "output_type": "display_data"
    }
   ],
   "source": [
    "## we will plot a box_plot\n",
    "\n",
    "sns.boxplot(dataset)"
   ]
  },
  {
   "cell_type": "code",
   "execution_count": null,
   "id": "53828f09",
   "metadata": {},
   "outputs": [],
   "source": []
  }
 ],
 "metadata": {
  "kernelspec": {
   "display_name": "Python 3 (ipykernel)",
   "language": "python",
   "name": "python3"
  },
  "language_info": {
   "codemirror_mode": {
    "name": "ipython",
    "version": 3
   },
   "file_extension": ".py",
   "mimetype": "text/x-python",
   "name": "python",
   "nbconvert_exporter": "python",
   "pygments_lexer": "ipython3",
   "version": "3.9.13"
  }
 },
 "nbformat": 4,
 "nbformat_minor": 5
}
